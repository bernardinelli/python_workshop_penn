{
 "cells": [
  {
   "cell_type": "markdown",
   "metadata": {},
   "source": [
    "### Variables and data types:\n",
    "Everything you use in Python has a data type: it defines how different things interact in your code. You can save things in variables, and you can reuse or change variables as you go. Some of the most basic data types are:\n",
    "- *Integers* (`int`): integer numbers (no rational numbers)\n",
    "- *Floats* (`float`): floating point numbers, that is, rational numbers, with finite precision. Note that you can't represent numbers with infinite precision!\n",
    "- *Strings* (`str`): phrases and series of characters\n",
    "- *Booleans* (`bool`): conditionals, record whether something is True or False\n",
    "\n",
    "Below you'll find some examples, and also I'll show the `print` function, the most basic way of getting data _out_ of your code."
   ]
  },
  {
   "cell_type": "code",
   "execution_count": 1,
   "metadata": {},
   "outputs": [
    {
     "name": "stdout",
     "output_type": "stream",
     "text": [
      "a 1\n",
      "b 2.5\n",
      "c 3.5\n",
      "1: 1 <class 'int'>\n",
      "1.0: 1.0 <class 'float'>\n",
      "True False\n"
     ]
    }
   ],
   "source": [
    "# Every line inside a Python code that starts with #\n",
    "# is a comment, and is not interpreted by the software!\n",
    "\n",
    "# The = sign is not an equality, but an assignment!\n",
    "# integer:\n",
    "a = 1\n",
    "print(\"a\",a)\n",
    "#float\n",
    "b = 2.5\n",
    "print(\"b\", b)\n",
    "#let's make a new variable, that sums a and b. Note that a and b are of different types, and c is a float!\n",
    "c = a + b\n",
    "print(\"c\", c)\n",
    "\n",
    "##difference between 1 and 1.0. You can check the data type of a variable or number with type:\n",
    "a = 1\n",
    "print(\"1:\", a, type(a))\n",
    "a = 1.0\n",
    "print(\"1.0:\", a, type(a))\n",
    "#Boolean:\n",
    "t = True\n",
    "f = False\n",
    "print(t, f)"
   ]
  },
  {
   "cell_type": "code",
   "execution_count": 2,
   "metadata": {},
   "outputs": [
    {
     "name": "stdout",
     "output_type": "stream",
     "text": [
      "p\n",
      "python\n"
     ]
    }
   ],
   "source": [
    "#single character:\n",
    "x = \"p\"\n",
    "print(x)\n",
    "# we can add strings as well. The x += y syntax is equivalent to x = x + y\n",
    "# note that by doing this, we are changing the value of x! \n",
    "y = \"ython\"\n",
    "x += y\n",
    "print(x)"
   ]
  },
  {
   "cell_type": "code",
   "execution_count": 3,
   "metadata": {},
   "outputs": [
    {
     "ename": "TypeError",
     "evalue": "must be str, not float",
     "output_type": "error",
     "traceback": [
      "\u001b[0;31m---------------------------------------------------------------------------\u001b[0m",
      "\u001b[0;31mTypeError\u001b[0m                                 Traceback (most recent call last)",
      "\u001b[0;32m<ipython-input-3-af4439b5783c>\u001b[0m in \u001b[0;36m<module>\u001b[0;34m\u001b[0m\n\u001b[1;32m      1\u001b[0m \u001b[0;31m# You can't sum strings and numbers, however. You'll see an error:\u001b[0m\u001b[0;34m\u001b[0m\u001b[0;34m\u001b[0m\u001b[0;34m\u001b[0m\u001b[0m\n\u001b[0;32m----> 2\u001b[0;31m \u001b[0ms\u001b[0m \u001b[0;34m=\u001b[0m \u001b[0mx\u001b[0m \u001b[0;34m+\u001b[0m \u001b[0ma\u001b[0m\u001b[0;34m\u001b[0m\u001b[0;34m\u001b[0m\u001b[0m\n\u001b[0m",
      "\u001b[0;31mTypeError\u001b[0m: must be str, not float"
     ]
    }
   ],
   "source": [
    "# You can't sum strings and numbers, however. You'll see an error:\n",
    "s = x + a"
   ]
  },
  {
   "cell_type": "code",
   "execution_count": 4,
   "metadata": {},
   "outputs": [
    {
     "name": "stdout",
     "output_type": "stream",
     "text": [
      "python1.0\n",
      "True False\n",
      "2\n",
      "1.0\n"
     ]
    }
   ],
   "source": [
    "## On the other hand, you can convert data types by calling the type name as a function:\n",
    "s = x + str(a)\n",
    "print(s)\n",
    "## booleans\n",
    "print(bool(1), bool(0))\n",
    "## integers and floats:\n",
    "print(int(2.5))\n",
    "print(float(1))"
   ]
  },
  {
   "cell_type": "markdown",
   "metadata": {},
   "source": [
    "### Comparisons:\n",
    "You can compare two variables, in the same way you would compare mathematical values:\n",
    "- Equality (`==`) \n",
    "- Difference (`!=`)\n",
    "- Greater than (`>`), or greater or equal than (`>=`)\n",
    "- Smaller than (`<`), or smaller or equal than (`<=`)\n",
    "\n",
    "These comparisons return True or False. You can also use `and`,  `or`, `not`:\n",
    "- `and` is used to check two conditions at the same time, returns True if both are True, False otherwise\n",
    "- `or` is similar to `and`, but returns True if at least one of the conditions are True\n",
    "- `not` returns the opposite of your condition \n",
    "Here are some simple examples, we'll see others afterwards\n",
    " "
   ]
  },
  {
   "cell_type": "code",
   "execution_count": 5,
   "metadata": {},
   "outputs": [
    {
     "name": "stdout",
     "output_type": "stream",
     "text": [
      "1 < 3: True\n",
      "1 > 3: False\n",
      "1 > 1: False\n",
      "1 >= 1: True\n",
      "not 1 < 3: False\n",
      "1 < 3 and 3 > 1: True\n",
      "1 < 3 or 3 < 1: True\n",
      "1 == 1: True\n",
      "1 != 3: True\n"
     ]
    }
   ],
   "source": [
    "print(\"1 < 3:\", 1 < 3)\n",
    "print(\"1 > 3:\", 1 > 3)\n",
    "print(\"1 > 1:\", 1 > 1)\n",
    "print(\"1 >= 1:\", 1 >= 1)\n",
    "print(\"not 1 < 3:\", not 1 < 3)\n",
    "print(\"1 < 3 and 3 > 1:\", 1 < 3 and 3 > 1)\n",
    "print(\"1 < 3 or 3 < 1:\", 1 < 3 or 3 < 1)\n",
    "print(\"1 == 1:\", 1 == 1)\n",
    "print(\"1 != 3:\", 1 != 3)\n"
   ]
  },
  {
   "cell_type": "code",
   "execution_count": 8,
   "metadata": {},
   "outputs": [
    {
     "name": "stdout",
     "output_type": "stream",
     "text": [
      "True\n",
      "True\n"
     ]
    }
   ],
   "source": [
    "print(1==1.)\n",
    "print(1 < 2.5)"
   ]
  },
  {
   "cell_type": "markdown",
   "metadata": {},
   "source": [
    "### Operators and operation precedence\n",
    "The main binary operators are:\n",
    "- `+`: addition\n",
    "- `-`: subtraction\n",
    "- `*`: multiplication\n",
    "- `/`: division\n",
    "- `%`: modulus (remainder of the division)\n",
    "- `**`: exponentiation\n",
    "- `//`: floor division (only the integer part of the division)\n",
    "\n",
    "Just like in math, the order of operators matters in Python! The (simplified) order is as follows:\n",
    "- Parenthesis have precedence over everything else\n",
    "- Exponentiation\n",
    "- Unary `+` and `-` (`+x` and `-x`, for example)\n",
    "- Multiplication, division and remainder \n",
    "- Sum and subtraction\n",
    "\n",
    "Some simple examples:"
   ]
  },
  {
   "cell_type": "code",
   "execution_count": 6,
   "metadata": {},
   "outputs": [
    {
     "name": "stdout",
     "output_type": "stream",
     "text": [
      "3//2 =  1\n",
      "3%2 = 1\n",
      "(1+2)/3 =  1.0\n",
      "1 + 2/3 =  1.6666666666666665\n",
      "2**3 =  8\n"
     ]
    }
   ],
   "source": [
    "print(\"3//2 = \", 3//2)\n",
    "print(\"3%2 =\", 3%2)\n",
    "print(\"(1+2)/3 = \", (1+2)/3)\n",
    "print(\"1 + 2/3 = \", 1 + 2/3)\n",
    "print(\"2**3 = \", 2**3)"
   ]
  },
  {
   "cell_type": "markdown",
   "metadata": {},
   "source": [
    "### More advanced data types:\n",
    "These are some of the most basic data types you can use. You can also have multiple values stored in a single variable, with the use of the following data structures:\n",
    "- *Tuples*: the most basic data structure, sequence of variables grouped together preserving input order, no advanced features. Each entry is accessed by using integers from 0 to n-1, where n is the number of entries on the tuple, that correspond to the order in which the entry was put on the tuple (this is called indexing)\n",
    "- *Lists*: sequence of variables, with the order preserved, with a few more interesting features. Indexed in the same way as tuples\n",
    "- *Sets*: sequence of non-repeating variables, with no order preservation. No indexing!\n",
    "- *Dictionaries*: sequence of variables where each entry is indexed by a key (which can be any of the basic variable types we talked about above!). No order preservation\n"
   ]
  },
  {
   "cell_type": "code",
   "execution_count": 9,
   "metadata": {},
   "outputs": [
    {
     "name": "stdout",
     "output_type": "stream",
     "text": [
      "Tuple: ('a', 'b')\n",
      "First entry: a\n",
      "Combining tuples: ('a', 'b', 'c', 'd')\n",
      "Last entry: d\n"
     ]
    }
   ],
   "source": [
    "## tuple:\n",
    "tup = ('a', 'b')\n",
    "print(\"Tuple:\", tup)\n",
    "print(\"First entry:\", tup[0])\n",
    "## you can combine tuples\n",
    "other = ('c', 'd')\n",
    "newtup = tup + other\n",
    "print(\"Combining tuples:\", newtup)\n",
    "\n",
    "## the last entry can be accessed with -1:\n",
    "print(\"Last entry:\", newtup[-1])"
   ]
  },
  {
   "cell_type": "code",
   "execution_count": 10,
   "metadata": {},
   "outputs": [
    {
     "name": "stdout",
     "output_type": "stream",
     "text": [
      "First entry: a\n",
      "Appending variables: ['a', 'b', 'c', 'd', 'e']\n",
      "Mixing data types: ['a', 'b', 'c', 'd', 'e', 0]\n",
      "Removing the last member: ['a', 'b', 'c', 'd', 'e']\n",
      "New last entry: e\n"
     ]
    }
   ],
   "source": [
    "## lists are similar:\n",
    "alphabet = ['a', 'b']\n",
    "print(\"First entry:\", alphabet[0])\n",
    "alphabet += ['c', 'd']\n",
    "## but you can also append to lists:\n",
    "alphabet.append('e')\n",
    "print(\"Appending variables:\", alphabet)\n",
    "## mixing datatypes is easy:\n",
    "alphabet.append(0)\n",
    "print(\"Mixing data types:\", alphabet)\n",
    "## you can remove the last entry by using pop;\n",
    "alphabet.pop()\n",
    "print(\"Removing the last member:\", alphabet)\n",
    "print(\"New last entry:\", alphabet[-1])"
   ]
  },
  {
   "cell_type": "code",
   "execution_count": 11,
   "metadata": {
    "scrolled": true
   },
   "outputs": [
    {
     "name": "stdout",
     "output_type": "stream",
     "text": [
      "{1, 2}\n",
      "{1, 2, 3}\n",
      "{1, 2, 3}\n"
     ]
    }
   ],
   "source": [
    "## sets:\n",
    "s = set((1,2))\n",
    "print(s)\n",
    "# adding a new member\n",
    "s.add(3)\n",
    "print(s)\n",
    "## trying to add something already in the set does nothing:\n",
    "s.add(1)\n",
    "print(s)"
   ]
  },
  {
   "cell_type": "code",
   "execution_count": 12,
   "metadata": {},
   "outputs": [
    {
     "name": "stdout",
     "output_type": "stream",
     "text": [
      "{'name': 'Sirius Black', 'age': 42, 'animal': 'dog', 0: True}\n",
      "Accessing key 'animal': dog\n",
      "List of all keys: dict_keys(['name', 'age', 'animal', 0])\n"
     ]
    }
   ],
   "source": [
    "## dictionaries:\n",
    "dic = {}\n",
    "## indexing by strings:\n",
    "dic['name'] = 'Sirius Black'\n",
    "dic['age'] = 42\n",
    "dic['animal'] = 'dog'\n",
    "# integers work as an index:\n",
    "dic[0] = True\n",
    "print(dic)\n",
    "print(\"Accessing key 'animal':\", dic['animal'])\n",
    "print(\"List of all keys:\", dic.keys())"
   ]
  },
  {
   "cell_type": "code",
   "execution_count": 13,
   "metadata": {},
   "outputs": [
    {
     "data": {
      "text/plain": [
       "dict_values(['Sirius Black', 42, 'dog', True])"
      ]
     },
     "execution_count": 13,
     "metadata": {},
     "output_type": "execute_result"
    }
   ],
   "source": [
    "dic.values()"
   ]
  },
  {
   "cell_type": "markdown",
   "metadata": {},
   "source": [
    "### Functions\n",
    "For every piece of code you wish to reuse, you can define a function. This function can have input arguments, and can return things as well. You can later on call this function, and it'll do whatever you asked it to. In order to define the scope of the function, you need to indent the code that belongs to the function (using tabs or spaces, see below)\n",
    "\n",
    "Some examples:"
   ]
  },
  {
   "cell_type": "code",
   "execution_count": 14,
   "metadata": {},
   "outputs": [
    {
     "name": "stdout",
     "output_type": "stream",
     "text": [
      "1 2\n"
     ]
    }
   ],
   "source": [
    "def sum_one(variable):\n",
    "    ## note indentation!\n",
    "    return variable + 1\n",
    "#no longer indented, so the function is over\n",
    "\n",
    "x = 1\n",
    "y = sum_one(x)\n",
    "print(x,y)"
   ]
  },
  {
   "cell_type": "code",
   "execution_count": 15,
   "metadata": {},
   "outputs": [
    {
     "name": "stdout",
     "output_type": "stream",
     "text": [
      "101\n"
     ]
    }
   ],
   "source": [
    "def sum_two_variables(x, y):\n",
    "    c = x + y\n",
    "    return c\n",
    "print(sum_two_variables(1,100))"
   ]
  },
  {
   "cell_type": "markdown",
   "metadata": {},
   "source": [
    "### Do it yourself 1:\n",
    "\n",
    "Write a function, called `mean` that computes the mean of three different variables. "
   ]
  },
  {
   "cell_type": "code",
   "execution_count": 16,
   "metadata": {},
   "outputs": [],
   "source": [
    "### your code here\n",
    "def mean(x,y,z):\n",
    "    return (x+y+z)/3"
   ]
  },
  {
   "cell_type": "code",
   "execution_count": 17,
   "metadata": {},
   "outputs": [
    {
     "name": "stdout",
     "output_type": "stream",
     "text": [
      "2.5 True\n"
     ]
    }
   ],
   "source": [
    "## try it out:\n",
    "a = 1.7\n",
    "b = 2.5\n",
    "c = 3.3 \n",
    "\n",
    "m = mean(a, b, c)\n",
    "\n",
    "print(m, m == 2.5)"
   ]
  },
  {
   "cell_type": "markdown",
   "metadata": {},
   "source": [
    "### Classes\n",
    "\n",
    "Now, we'll start diving a bit deeper into the workings of Python. As mentioned earlier, Python is an object-oriented language. This means that Python works through classes, with members of that class being called objects. Classes can have functions and their own variables. The easiest way to visualize this is to do an example. We'll start with something very simple first:"
   ]
  },
  {
   "cell_type": "code",
   "execution_count": 19,
   "metadata": {},
   "outputs": [],
   "source": [
    "## we'll create a class called student\n",
    "class Student:\n",
    "    ## this initializes the class. Every class function requires self as the first argument, so it knows it operates on itself\n",
    "    def __init__(self, name, school, schoolid):\n",
    "        self.name = name\n",
    "        self.school = school\n",
    "        self.id = schoolid\n",
    "        ## note this function doesn't return anything!\n",
    "        \n",
    "    # Let's also create a function to store the grades in three different tests, and compute the mean \n",
    "    def compute_grade(self, grade_midterm_1, grade_midterm_2, grade_midterm_3):\n",
    "        self.mid1 = grade_midterm_1\n",
    "        self.mid2 = grade_midterm_2\n",
    "        self.mid3 = grade_midterm_3\n",
    "        \n",
    "        self.finalgrade = mean(self.mid1, self.mid2, self.mid3)\n",
    "        ## again, no returning!\n",
    "    def print_grades(self):\n",
    "        # here's a fancy way of formatting strings;\n",
    "        print(\"Student {} (school id {}) from {}. Final grade: {}\".format(self.name, self.id, self.school, self.finalgrade))\n",
    "        \n"
   ]
  },
  {
   "cell_type": "code",
   "execution_count": 20,
   "metadata": {},
   "outputs": [
    {
     "name": "stdout",
     "output_type": "stream",
     "text": [
      "Pedro 123454321\n"
     ]
    }
   ],
   "source": [
    "pedro = Student(\"Pedro\", \"SAS\", 123454321)\n",
    "## we can access individual members of the class\n",
    "print(pedro.name, pedro.id)"
   ]
  },
  {
   "cell_type": "code",
   "execution_count": 21,
   "metadata": {},
   "outputs": [
    {
     "name": "stdout",
     "output_type": "stream",
     "text": [
      "Student Pedro (school id 123454321) from SAS. Final grade: 89.33333333333333\n"
     ]
    }
   ],
   "source": [
    "### Let's use the compute_grade function:\n",
    "pedro.compute_grade(100, 93, 75)\n",
    "## Nothing is returned or printed! However, we can call our print function:\n",
    "pedro.print_grades() ## note no arguments"
   ]
  },
  {
   "cell_type": "markdown",
   "metadata": {},
   "source": [
    "### A more _complex_ example\n",
    "\n",
    "To demonstrate the power of classes, we'll write a class for complex numbers. \n",
    "\n",
    "These numbers are of the form $z = a + ib$, with $a,b \\in \\mathbb{R}$.\n",
    "\n",
    "If $z = a + ib$ and $w = c + id$ are two complex numbers, $z + w = (a+c) + i (b + d)$. \n",
    "\n",
    "We can tell python how to do these sums, as I'll show below. The predefined operations on classes are called \"special\" methods, so their names include leading and trailing `__`. "
   ]
  },
  {
   "cell_type": "code",
   "execution_count": 22,
   "metadata": {},
   "outputs": [],
   "source": [
    "class ComplexNumber:\n",
    "    def __init__(self, real, imag):\n",
    "        self.real = real\n",
    "        self.imaginary = imag\n",
    "    # __str__ tells Python how to print these numbers:\n",
    "    def __str__(self):\n",
    "        return \"{} + i {}\".format(self.real, self.imaginary)\n",
    "    ## add function, here, other represents another complex number:\n",
    "    def __add__(self, other):\n",
    "        new_real = self.real + other.real\n",
    "        new_imag = self.imaginary + other.imaginary\n",
    "        return ComplexNumber(new_real, new_imag)\n",
    "    ## subtraction:\n",
    "    def __sub__(self, other):\n",
    "        new_real = self.real - other.real\n",
    "        new_imag = self.imaginary - other.imaginary\n",
    "        return ComplexNumber(new_real, new_imag)\n"
   ]
  },
  {
   "cell_type": "code",
   "execution_count": 23,
   "metadata": {},
   "outputs": [
    {
     "name": "stdout",
     "output_type": "stream",
     "text": [
      "z: 1 + i 2 w: 3 + i 4\n",
      "z + w: 4 + i 6\n"
     ]
    }
   ],
   "source": [
    "z = ComplexNumber(1,2)\n",
    "w = ComplexNumber(3,4)\n",
    "print(\"z:\", z, \"w:\", w)\n",
    "\n",
    "c = z + w\n",
    "print(\"z + w:\", c)"
   ]
  },
  {
   "cell_type": "markdown",
   "metadata": {},
   "source": [
    "### Do it yourself 2\n",
    "Expand the previous definition of the ComplexNumber to include multiplication and division. Using the previous notation,\n",
    "$$ z \\cdot w = (ac - bd) + i (ad + bc)$$\n",
    "$$ z/w = \\frac{ac + bd}{c^2 + d^2} + i \\frac{bc - ad}{c^2 + d^2} $$"
   ]
  },
  {
   "cell_type": "code",
   "execution_count": 13,
   "metadata": {},
   "outputs": [],
   "source": [
    "class ComplexNumber:\n",
    "    def __init__(self, real, imag):\n",
    "        self.real = real\n",
    "        self.imaginary = imag\n",
    "    # __str__ tells Python how to print these numbers:\n",
    "    def __str__(self):\n",
    "        return \"{} + i {}\".format(self.real, self.imaginary)\n",
    "    ## add function, here, other represents another complex number:\n",
    "    def __add__(self, other):\n",
    "        new_real = self.real + other.real\n",
    "        new_imag = self.imaginary + other.imaginary\n",
    "        return ComplexNumber(new_real, new_imag)\n",
    "    ## subtraction:\n",
    "    def __sub__(self, other):\n",
    "        new_real = self.real - other.real\n",
    "        new_imag = self.imaginary - other.imaginary\n",
    "        return ComplexNumber(new_real, new_imag)\n",
    "    ## multiplication here\n",
    "    def __mul__(self, other):\n",
    "        new_real = self.real * other.real - self.imaginary * other.imaginary\n",
    "        new_imag = self.real * other.imaginary + self.imaginary * other.real\n",
    "        return ComplexNumber(new_real, new_imag)\n",
    "    \n",
    "    ## division here\n",
    "    def __truediv__(self, other):\n",
    "            den = other.real**2 + other.imaginary**2\n",
    "            new_real = (self.real * other.real + self.imaginary * other.imaginary)/den\n",
    "            new_imag = (self.imaginary * other.real - self.real * other.imaginary)/den\n",
    "            \n",
    "            return ComplexNumber(new_real, new_imag)\n",
    "        \n",
    "        "
   ]
  },
  {
   "cell_type": "code",
   "execution_count": 14,
   "metadata": {},
   "outputs": [
    {
     "name": "stdout",
     "output_type": "stream",
     "text": [
      "-1 + i 0 1.0 + i 0.0\n"
     ]
    }
   ],
   "source": [
    "## test it out!\n",
    "imag = ComplexNumber(0, 1)\n",
    "\n",
    "print(imag * imag, imag/imag)"
   ]
  },
  {
   "cell_type": "markdown",
   "metadata": {},
   "source": [
    "### Loops and conditionals\n",
    "\n",
    "As a final example of basic Python, let's construct some loops and explore conditionals. There are two main types of loops:\n",
    "- `for` loops: this evaluates the code block (marked by indentation) for all elements that belong to the condition you chose. You can think of this as the mathematical $\\forall x \\in S$, for some set $S$\n",
    "- `while` loops: this evaluates the code block until your pre-defined condition becomes false\n",
    "\n",
    "We can further add conditionals using `if` and `else`: `if` only evaluates the code block when the condition is True. Using `elif` and `else` adds further control: `elif` is another if statement that is only verified if the previous if statement is False, `else` only runs if all previous conditions are False."
   ]
  },
  {
   "cell_type": "code",
   "execution_count": 24,
   "metadata": {},
   "outputs": [
    {
     "name": "stdout",
     "output_type": "stream",
     "text": [
      "1\n",
      "2\n",
      "3\n",
      "4\n",
      "5\n",
      "6\n",
      "7\n",
      "8\n",
      "All numbers: 36\n"
     ]
    }
   ],
   "source": [
    "s = 0\n",
    "## let's sum the numbers from 1 through 8:\n",
    "for i in [1,2,3,4,5,6,7,8]:\n",
    "    print(i)\n",
    "    s += i\n",
    "print(\"All numbers:\", s)"
   ]
  },
  {
   "cell_type": "code",
   "execution_count": 26,
   "metadata": {},
   "outputs": [
    {
     "name": "stdout",
     "output_type": "stream",
     "text": [
      "1\n",
      "3\n",
      "5\n",
      "7\n",
      "Even numbers: 20\n"
     ]
    }
   ],
   "source": [
    "## let's sum all even numbers from 1 through 8:\n",
    "numbers = range(1,9) #instead of writing all numbers, we can use range(a,b) to have all numbers from a to b-1\n",
    "s = 0\n",
    "for i in numbers:\n",
    "    if i%2 == 0: #if i divided by 2 has 0 remainder\n",
    "        s += i\n",
    "    else:\n",
    "        print(i)\n",
    "        continue #does nothing\n",
    "print(\"Even numbers:\", s)\n"
   ]
  },
  {
   "cell_type": "code",
   "execution_count": 27,
   "metadata": {},
   "outputs": [
    {
     "name": "stdout",
     "output_type": "stream",
     "text": [
      "Not summing 2\n",
      "Odd: 16 Even: 18\n"
     ]
    }
   ],
   "source": [
    "## more complex control, summing all even numbers, all odd numbers, and ignoring number 2:\n",
    "even = 0\n",
    "odd = 0\n",
    "for i in numbers:\n",
    "    if i%2 == 0 and i != 2: #if i divided by 2 has 0 remainder\n",
    "        even += i\n",
    "    elif i%2 != 0:\n",
    "        odd += i\n",
    "    else:\n",
    "        print(\"Not summing\", i)\n",
    "print(\"Odd:\", odd, \"Even:\", even)"
   ]
  },
  {
   "cell_type": "code",
   "execution_count": 28,
   "metadata": {},
   "outputs": [
    {
     "name": "stdout",
     "output_type": "stream",
     "text": [
      "Sum: 105\n",
      "Final number to be summed: 14\n"
     ]
    }
   ],
   "source": [
    "## Let's sum all integers until our sum reaches 100:\n",
    "s = 0\n",
    "i = 0\n",
    "while s < 100:\n",
    "    i += 1\n",
    "    s += i\n",
    "    \n",
    "print(\"Sum:\", s)\n",
    "print(\"Final number to be summed:\", i)"
   ]
  },
  {
   "cell_type": "markdown",
   "metadata": {},
   "source": [
    "### Recursion\n",
    "\n",
    "Recursion is a way of calling a function inside itself, until you reach a condition that tells it to stop. It is very similar to a while loop, and is, sometimes, a more elegant way of solving the problem.\n",
    "\n",
    "The classical example of recursion is the factorial function. We define\n",
    "$$n! = n \\cdot (n-1)! $$\n",
    "and\n",
    "$$ 0! = 1$$\n",
    "\n",
    "In Python language:"
   ]
  },
  {
   "cell_type": "code",
   "execution_count": 29,
   "metadata": {},
   "outputs": [
    {
     "name": "stdout",
     "output_type": "stream",
     "text": [
      "Computing 0!\n",
      "Returning 1\n",
      "0!: 1\n",
      "Computing 1!\n",
      "Returning 1 * 0!\n",
      "Computing 0!\n",
      "Returning 1\n",
      "1!: 1\n",
      "Computing 5!\n",
      "Returning 5 * 4!\n",
      "Computing 4!\n",
      "Returning 4 * 3!\n",
      "Computing 3!\n",
      "Returning 3 * 2!\n",
      "Computing 2!\n",
      "Returning 2 * 1!\n",
      "Computing 1!\n",
      "Returning 1 * 0!\n",
      "Computing 0!\n",
      "Returning 1\n",
      "5!: 120\n"
     ]
    }
   ],
   "source": [
    "def factorial(n):\n",
    "    print('Computing {}!'.format(n))\n",
    "    if n == 0:\n",
    "        print('Returning 1')\n",
    "        return 1\n",
    "    else:\n",
    "        print('Returning {} * {}!'.format(n, n-1))\n",
    "        return n * factorial(n-1) \n",
    "\n",
    "print(\"0!:\", factorial(0))\n",
    "print(\"1!:\", factorial(1))\n",
    "print(\"5!:\", factorial(5))"
   ]
  },
  {
   "cell_type": "code",
   "execution_count": null,
   "metadata": {},
   "outputs": [],
   "source": []
  }
 ],
 "metadata": {
  "kernelspec": {
   "display_name": "Python 3",
   "language": "python",
   "name": "python3"
  },
  "language_info": {
   "codemirror_mode": {
    "name": "ipython",
    "version": 3
   },
   "file_extension": ".py",
   "mimetype": "text/x-python",
   "name": "python",
   "nbconvert_exporter": "python",
   "pygments_lexer": "ipython3",
   "version": "3.6.9"
  }
 },
 "nbformat": 4,
 "nbformat_minor": 2
}
