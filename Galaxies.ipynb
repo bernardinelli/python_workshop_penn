{
 "cells": [
  {
   "cell_type": "code",
   "execution_count": null,
   "metadata": {},
   "outputs": [],
   "source": [
    "#Import statements here\n",
    "import skyserv as ss #this one is a function that is local that I made for your convenience. Feel free to look at it (skyserv.py)\n",
    "import matplotlib.pyplot as plt #youll need this to make plots\n",
    "\n"
   ]
  },
  {
   "cell_type": "markdown",
   "metadata": {},
   "source": [
    "Read in the two data files with pandas into two data frames, merge the files into one big dataframe (bigdf) and finally remove everything that isnt a galaxy from the bigdf. Then, remove everything that isnt a galaxy from the bigdf, sort by either brightness or redshift to get the brightest/closest galaxies (sorted_bigdf). Once that is done, plot image stamps of the 25 brightest/closest galaxies. This function will give you the image stamps: ss.getImStamp().\n",
    "I've added some plotting code (below) so you can focus on the data analysis part (above). You can of course write your own if you want, there are many different ways to plot and below is just one example.\n",
    "\n"
   ]
  },
  {
   "cell_type": "code",
   "execution_count": null,
   "metadata": {},
   "outputs": [],
   "source": [
    "fig, axes = plt.subplots(5, 5, figsize=(10,10))\n",
    "num = axes.shape[0]*axes.shape[1]\n",
    "unraveled_axes = axes.ravel()\n",
    "\n",
    "for index,ra,dec,ax in zip(range(num),sorted_bigdf['ra'][:num],sorted_bigdf['dec'][:num],unraveled_axes):\n",
    "    \n",
    "    img_stamp=ss.getImStamp(ra,dec)\n",
    "    \n",
    "    ax.imshow(img_stamp)\n",
    "    \n",
    "    ax.set_xticks([]); ax.set_yticks([])\n",
    "    \n",
    "fig.subplots_adjust(hspace=0.04)\n",
    "plt.savefig('beautiful_galaxies.png')\n"
   ]
  }
 ],
 "metadata": {
  "kernelspec": {
   "display_name": "Python 3",
   "language": "python",
   "name": "python3"
  },
  "language_info": {
   "codemirror_mode": {
    "name": "ipython",
    "version": 3
   },
   "file_extension": ".py",
   "mimetype": "text/x-python",
   "name": "python",
   "nbconvert_exporter": "python",
   "pygments_lexer": "ipython3",
   "version": "3.6.9"
  }
 },
 "nbformat": 4,
 "nbformat_minor": 2
}
