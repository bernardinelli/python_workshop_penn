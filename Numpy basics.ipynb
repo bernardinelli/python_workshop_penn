{
 "cells": [
  {
   "cell_type": "markdown",
   "metadata": {},
   "source": [
    "The idea of this notebook is to develop a basic understanding of how `numpy` works, and how to use it properly. First of all, let's import numpy."
   ]
  },
  {
   "cell_type": "code",
   "execution_count": 1,
   "metadata": {},
   "outputs": [],
   "source": [
    "import numpy as np"
   ]
  },
  {
   "cell_type": "markdown",
   "metadata": {},
   "source": [
    "Numpy has a bunch of convenient mathematical functions built-in. Let's compute $\\sin(\\pi/2)$, $\\cos(\\pi/2)$, $\\tan(\\pi/2)$. You'll see how $\\cos(\\pi/2)$ is only approximately zero and $\\tan(\\pi/2)$ is a huge number, so be careful about this!"
   ]
  },
  {
   "cell_type": "code",
   "execution_count": 7,
   "metadata": {},
   "outputs": [
    {
     "name": "stdout",
     "output_type": "stream",
     "text": [
      "1.0 6.123233995736766e-17 1.633123935319537e+16\n"
     ]
    }
   ],
   "source": [
    "print(np.sin(np.pi/2),np.cos(np.pi/2), np.tan(np.pi/2))"
   ]
  },
  {
   "cell_type": "markdown",
   "metadata": {},
   "source": [
    "The basic numpy data structure is the array, which is similar to the built-in python list, but much more efficient."
   ]
  },
  {
   "cell_type": "code",
   "execution_count": 10,
   "metadata": {},
   "outputs": [
    {
     "name": "stdout",
     "output_type": "stream",
     "text": [
      "[ 1  2  3  4  5  6  7  8  9 10 11 12 13 14 15 16 17 18 19 20 21 22 23 24\n",
      " 25 26 27 28 29 30 31 32 33 34 35 36 37 38 39 40 41 42 43 44 45 46 47 48\n",
      " 49 50 51 52 53 54 55 56 57 58 59 60 61 62 63 64 65 66 67 68 69 70 71 72\n",
      " 73 74 75 76 77 78 79 80 81 82 83 84 85 86 87 88 89 90 91 92 93 94 95 96\n",
      " 97 98 99]\n"
     ]
    }
   ],
   "source": [
    "print(np.arange(1,100,1))"
   ]
  },
  {
   "cell_type": "markdown",
   "metadata": {},
   "source": [
    "You can index a numpy array in many different ways, for example:\n",
    "- Using single indices and slices, like you would a Python list\n",
    "- Using an array or list of indices\n",
    "- Using booleans (`True`, `False`) and conditions"
   ]
  },
  {
   "cell_type": "code",
   "execution_count": 19,
   "metadata": {},
   "outputs": [
    {
     "name": "stdout",
     "output_type": "stream",
     "text": [
      "Slicing and indexing:\n",
      "2 [ 2  3  4  5  6  7  8  9 10]\n",
      "Indexing using a list:\n",
      "[1 2 3 4]\n",
      "Condition a < 10. Where is it true?\n",
      "[ True  True  True  True  True  True  True  True  True False False False\n",
      " False False False False False False False False False False False False\n",
      " False False False False False False False False False False False False\n",
      " False False False False False False False False False False False False\n",
      " False False False False False False False False False False False False\n",
      " False False False False False False False False False False False False\n",
      " False False False False False False False False False False False False\n",
      " False False False False False False False False False False False False\n",
      " False False False] (array([0, 1, 2, 3, 4, 5, 6, 7, 8]),)\n",
      "Indexing using the condition:\n",
      "[1 2 3 4 5 6 7 8 9] [1 2 3 4 5 6 7 8 9]\n"
     ]
    }
   ],
   "source": [
    "a = np.arange(1,100,1)\n",
    "print(\"Slicing and indexing:\")\n",
    "print(a[1], a[1:10])\n",
    "# Using a list to index the array:\n",
    "print(\"Indexing using a list:\")\n",
    "print(a[[0,1,2,3]])\n",
    "#Let's now take only places where a < 10. There are two ways of doing this:\n",
    "print(\"Condition a < 10. Where is it true?\")\n",
    "print(a < 10, np.where(a < 10))\n",
    "print(\"Indexing using the condition:\")\n",
    "print(a[a<10], a[np.where(a < 10)])"
   ]
  },
  {
   "cell_type": "markdown",
   "metadata": {},
   "source": [
    "We can also do some fancy things that reshape the array. Let's first create a 2 by 2 array, then use it to index our original array!"
   ]
  },
  {
   "cell_type": "code",
   "execution_count": 23,
   "metadata": {},
   "outputs": [
    {
     "name": "stdout",
     "output_type": "stream",
     "text": [
      "b:\n",
      "[[98 87]\n",
      " [45  3]]\n",
      "a:\n",
      "[[99 88]\n",
      " [46  4]]\n"
     ]
    }
   ],
   "source": [
    "b = np.array([[98,87],[45,3]])\n",
    "print(\"b:\")\n",
    "print(b)\n",
    "print(\"a:\")\n",
    "print(a[b])"
   ]
  },
  {
   "cell_type": "markdown",
   "metadata": {},
   "source": [
    "We can also change the shape of our array uisng reshape:"
   ]
  },
  {
   "cell_type": "code",
   "execution_count": 25,
   "metadata": {},
   "outputs": [
    {
     "name": "stdout",
     "output_type": "stream",
     "text": [
      "[[ 1  2  3  4  5  6  7  8  9 10 11 12 13 14 15 16 17 18 19 20 21 22 23 24\n",
      "  25 26 27 28 29 30 31 32 33]\n",
      " [34 35 36 37 38 39 40 41 42 43 44 45 46 47 48 49 50 51 52 53 54 55 56 57\n",
      "  58 59 60 61 62 63 64 65 66]\n",
      " [67 68 69 70 71 72 73 74 75 76 77 78 79 80 81 82 83 84 85 86 87 88 89 90\n",
      "  91 92 93 94 95 96 97 98 99]]\n"
     ]
    }
   ],
   "source": [
    "b = a.reshape((3,33))\n",
    "print(b)"
   ]
  },
  {
   "cell_type": "markdown",
   "metadata": {},
   "source": [
    "One very important thing in numpy is to try to as often as possible use the broadcasting/vectorization capabilities of numpy. Under the hood, numpy uses C. So every time you call a function in numpy, it calls a C function that operates on your input. Numpy functions can take arrays as inputs, and this is almost always better than using, say, a for loop to compute it. For example, let's make an array from $-\\pi$ to $\\pi$ with 1000000 steps and compute the cosine of it."
   ]
  },
  {
   "cell_type": "code",
   "execution_count": 36,
   "metadata": {},
   "outputs": [],
   "source": [
    "a = np.linspace(-np.pi,np.pi,1000000)"
   ]
  },
  {
   "cell_type": "code",
   "execution_count": 53,
   "metadata": {},
   "outputs": [
    {
     "name": "stdout",
     "output_type": "stream",
     "text": [
      "115 ms ± 1.44 ms per loop (mean ± std. dev. of 7 runs, 10 loops each)\n"
     ]
    }
   ],
   "source": [
    "%%timeit\n",
    "b = []\n",
    "for i in a:\n",
    "    b.append(np.cos(i))\n",
    "b = np.array(b)"
   ]
  },
  {
   "cell_type": "code",
   "execution_count": 54,
   "metadata": {},
   "outputs": [
    {
     "name": "stdout",
     "output_type": "stream",
     "text": [
      "1.26 ms ± 15.8 µs per loop (mean ± std. dev. of 7 runs, 1000 loops each)\n"
     ]
    }
   ],
   "source": [
    "%%timeit\n",
    "b = np.cos(a)"
   ]
  },
  {
   "cell_type": "markdown",
   "metadata": {},
   "source": [
    "Doing the vectorized operation in numpy is almost 100x faster! This can be done with all array shapes. Let's take, for example, a plane"
   ]
  },
  {
   "cell_type": "code",
   "execution_count": 58,
   "metadata": {},
   "outputs": [
    {
     "name": "stdout",
     "output_type": "stream",
     "text": [
      "[[-3.14159265 -3.13530318 -3.1290137  ...  3.1290137   3.13530318\n",
      "   3.14159265]\n",
      " [-3.14159265 -3.13530318 -3.1290137  ...  3.1290137   3.13530318\n",
      "   3.14159265]\n",
      " [-3.14159265 -3.13530318 -3.1290137  ...  3.1290137   3.13530318\n",
      "   3.14159265]\n",
      " ...\n",
      " [-3.14159265 -3.13530318 -3.1290137  ...  3.1290137   3.13530318\n",
      "   3.14159265]\n",
      " [-3.14159265 -3.13530318 -3.1290137  ...  3.1290137   3.13530318\n",
      "   3.14159265]\n",
      " [-3.14159265 -3.13530318 -3.1290137  ...  3.1290137   3.13530318\n",
      "   3.14159265]]\n"
     ]
    }
   ],
   "source": [
    "a = np.linspace(-np.pi, np.pi, 1000)\n",
    "b = np.linspace(-np.pi, np.pi, 1000)\n",
    "\n",
    "plane = np.meshgrid(a,b)[0]\n",
    "print(\"Meshgrid makes this a matrix of size 1000x1000\")\n",
    "print(plane)\n"
   ]
  },
  {
   "cell_type": "code",
   "execution_count": null,
   "metadata": {},
   "outputs": [],
   "source": []
  }
 ],
 "metadata": {
  "kernelspec": {
   "display_name": "Python 3",
   "language": "python",
   "name": "python3"
  },
  "language_info": {
   "codemirror_mode": {
    "name": "ipython",
    "version": 3
   },
   "file_extension": ".py",
   "mimetype": "text/x-python",
   "name": "python",
   "nbconvert_exporter": "python",
   "pygments_lexer": "ipython3",
   "version": "3.6.9"
  }
 },
 "nbformat": 4,
 "nbformat_minor": 2
}
