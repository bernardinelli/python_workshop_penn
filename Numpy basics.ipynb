{
 "cells": [
  {
   "cell_type": "markdown",
   "metadata": {},
   "source": [
    "The idea of this notebook is to develop a basic understanding of how `numpy` works, and how to use it properly. First of all, let's import numpy."
   ]
  },
  {
   "cell_type": "code",
   "execution_count": 1,
   "metadata": {},
   "outputs": [],
   "source": [
    "import numpy as np"
   ]
  },
  {
   "cell_type": "markdown",
   "metadata": {},
   "source": [
    "Numpy has a bunch of convenient mathematical functions built-in. Let's compute $\\sin(\\pi/2)$, $\\cos(\\pi/2)$, $\\tan(\\pi/2)$. You'll see how $\\cos(\\pi/2)$ is only approximately zero and $\\tan(\\pi/2)$ is a huge number, so be careful about this!"
   ]
  },
  {
   "cell_type": "code",
   "execution_count": 2,
   "metadata": {},
   "outputs": [
    {
     "name": "stdout",
     "output_type": "stream",
     "text": [
      "1.0 6.123233995736766e-17 1.633123935319537e+16\n"
     ]
    }
   ],
   "source": [
    "print(np.sin(np.pi/2),np.cos(np.pi/2), np.tan(np.pi/2))"
   ]
  },
  {
   "cell_type": "markdown",
   "metadata": {},
   "source": [
    "The basic numpy data structure is the array, which is similar to the built-in python list, but much more efficient."
   ]
  },
  {
   "cell_type": "code",
   "execution_count": 3,
   "metadata": {},
   "outputs": [
    {
     "name": "stdout",
     "output_type": "stream",
     "text": [
      "[ 1  2  3  4  5  6  7  8  9 10 11 12 13 14 15 16 17 18 19 20 21 22 23 24\n",
      " 25 26 27 28 29 30 31 32 33 34 35 36 37 38 39 40 41 42 43 44 45 46 47 48\n",
      " 49 50 51 52 53 54 55 56 57 58 59 60 61 62 63 64 65 66 67 68 69 70 71 72\n",
      " 73 74 75 76 77 78 79 80 81 82 83 84 85 86 87 88 89 90 91 92 93 94 95 96\n",
      " 97 98 99]\n"
     ]
    }
   ],
   "source": [
    "print(np.arange(1,100,1))"
   ]
  },
  {
   "cell_type": "markdown",
   "metadata": {},
   "source": [
    "You can index a numpy array in many different ways, for example:\n",
    "- Using single indices and slices, like you would a Python list\n",
    "- Using an array or list of indices\n",
    "- Using booleans (`True`, `False`) and conditions"
   ]
  },
  {
   "cell_type": "code",
   "execution_count": 4,
   "metadata": {},
   "outputs": [
    {
     "name": "stdout",
     "output_type": "stream",
     "text": [
      "Slicing and indexing:\n",
      "2 [ 2  3  4  5  6  7  8  9 10]\n",
      "Indexing using a list:\n",
      "[1 2 3 4]\n",
      "Condition a < 10. Where is it true?\n",
      "[ True  True  True  True  True  True  True  True  True False False False\n",
      " False False False False False False False False False False False False\n",
      " False False False False False False False False False False False False\n",
      " False False False False False False False False False False False False\n",
      " False False False False False False False False False False False False\n",
      " False False False False False False False False False False False False\n",
      " False False False False False False False False False False False False\n",
      " False False False False False False False False False False False False\n",
      " False False False] (array([0, 1, 2, 3, 4, 5, 6, 7, 8]),)\n",
      "Indexing using the condition:\n",
      "[1 2 3 4 5 6 7 8 9] [1 2 3 4 5 6 7 8 9]\n"
     ]
    }
   ],
   "source": [
    "a = np.arange(1,100,1)\n",
    "print(\"Slicing and indexing:\")\n",
    "print(a[1], a[1:10])\n",
    "# Using a list to index the array:\n",
    "print(\"Indexing using a list:\")\n",
    "print(a[[0,1,2,3]])\n",
    "#Let's now take only places where a < 10. There are two ways of doing this:\n",
    "print(\"Condition a < 10. Where is it true?\")\n",
    "print(a < 10, np.where(a < 10))\n",
    "print(\"Indexing using the condition:\")\n",
    "print(a[a<10], a[np.where(a < 10)])"
   ]
  },
  {
   "cell_type": "code",
   "execution_count": 5,
   "metadata": {},
   "outputs": [
    {
     "data": {
      "text/plain": [
       "array([1, 2, 3, 4, 5, 6, 7, 8, 9])"
      ]
     },
     "execution_count": 5,
     "metadata": {},
     "output_type": "execute_result"
    }
   ],
   "source": [
    "a[a < 10]"
   ]
  },
  {
   "cell_type": "markdown",
   "metadata": {},
   "source": [
    "We can also do some fancy things that reshape the array. Let's first create a 2 by 2 array, then use it to index our original array!"
   ]
  },
  {
   "cell_type": "code",
   "execution_count": 6,
   "metadata": {},
   "outputs": [
    {
     "name": "stdout",
     "output_type": "stream",
     "text": [
      "b:\n",
      "[[98 87]\n",
      " [45  3]]\n",
      "a:\n",
      "[[99 88]\n",
      " [46  4]]\n"
     ]
    }
   ],
   "source": [
    "b = np.array([[98,87],[45,3]])\n",
    "print(\"b:\")\n",
    "print(b)\n",
    "print(\"a:\")\n",
    "print(a[b])"
   ]
  },
  {
   "cell_type": "code",
   "execution_count": 7,
   "metadata": {},
   "outputs": [
    {
     "data": {
      "text/plain": [
       "(99,)"
      ]
     },
     "execution_count": 7,
     "metadata": {},
     "output_type": "execute_result"
    }
   ],
   "source": [
    "a.shape"
   ]
  },
  {
   "cell_type": "markdown",
   "metadata": {},
   "source": [
    "We can also change the shape of our array using reshape:"
   ]
  },
  {
   "cell_type": "code",
   "execution_count": 8,
   "metadata": {},
   "outputs": [
    {
     "name": "stdout",
     "output_type": "stream",
     "text": [
      "[[ 1  2  3  4  5  6  7  8  9 10 11 12 13 14 15 16 17 18 19 20 21 22 23 24\n",
      "  25 26 27 28 29 30 31 32 33]\n",
      " [34 35 36 37 38 39 40 41 42 43 44 45 46 47 48 49 50 51 52 53 54 55 56 57\n",
      "  58 59 60 61 62 63 64 65 66]\n",
      " [67 68 69 70 71 72 73 74 75 76 77 78 79 80 81 82 83 84 85 86 87 88 89 90\n",
      "  91 92 93 94 95 96 97 98 99]]\n"
     ]
    }
   ],
   "source": [
    "b = a.reshape((3,33))\n",
    "print(b)"
   ]
  },
  {
   "cell_type": "markdown",
   "metadata": {},
   "source": [
    "One very important thing in numpy is to try to as often as possible use the broadcasting/vectorization capabilities of numpy. Under the hood, numpy uses C. So every time you call a function in numpy, it calls a C function that operates on your input. Numpy functions can take arrays as inputs, and this is almost always better than using, say, a for loop to compute it. For example, let's make an array from $-\\pi$ to $\\pi$ with 1000000 steps and compute the cosine of it."
   ]
  },
  {
   "cell_type": "code",
   "execution_count": 9,
   "metadata": {},
   "outputs": [],
   "source": [
    "a = np.linspace(-np.pi,np.pi,1000000)"
   ]
  },
  {
   "cell_type": "code",
   "execution_count": 10,
   "metadata": {},
   "outputs": [
    {
     "name": "stdout",
     "output_type": "stream",
     "text": [
      "1.34 s ± 11.6 ms per loop (mean ± std. dev. of 7 runs, 1 loop each)\n"
     ]
    }
   ],
   "source": [
    "%%timeit\n",
    "b = []\n",
    "for i in a:\n",
    "    b.append(np.cos(i))\n",
    "b = np.array(b)"
   ]
  },
  {
   "cell_type": "code",
   "execution_count": 11,
   "metadata": {},
   "outputs": [
    {
     "name": "stdout",
     "output_type": "stream",
     "text": [
      "14.2 ms ± 25.9 µs per loop (mean ± std. dev. of 7 runs, 100 loops each)\n"
     ]
    }
   ],
   "source": [
    "%%timeit\n",
    "b = np.cos(a)"
   ]
  },
  {
   "cell_type": "markdown",
   "metadata": {},
   "source": [
    "Doing the vectorized operation in numpy is almost 100x faster! This can be done with all array shapes. Let's take, for example, a plane"
   ]
  },
  {
   "cell_type": "code",
   "execution_count": 12,
   "metadata": {},
   "outputs": [
    {
     "name": "stdout",
     "output_type": "stream",
     "text": [
      "Meshgrid makes this a matrix of size 1000x1000\n",
      "[[-3.14159265 -3.13530318 -3.1290137  ...  3.1290137   3.13530318\n",
      "   3.14159265]\n",
      " [-3.14159265 -3.13530318 -3.1290137  ...  3.1290137   3.13530318\n",
      "   3.14159265]\n",
      " [-3.14159265 -3.13530318 -3.1290137  ...  3.1290137   3.13530318\n",
      "   3.14159265]\n",
      " ...\n",
      " [-3.14159265 -3.13530318 -3.1290137  ...  3.1290137   3.13530318\n",
      "   3.14159265]\n",
      " [-3.14159265 -3.13530318 -3.1290137  ...  3.1290137   3.13530318\n",
      "   3.14159265]\n",
      " [-3.14159265 -3.13530318 -3.1290137  ...  3.1290137   3.13530318\n",
      "   3.14159265]]\n"
     ]
    }
   ],
   "source": [
    "a = np.linspace(-np.pi, np.pi, 1000)\n",
    "b = np.linspace(-np.pi, np.pi, 1000)\n",
    "\n",
    "plane = np.meshgrid(a,b)[0]\n",
    "print(\"Meshgrid makes this a matrix of size 1000x1000\")\n",
    "print(plane)\n"
   ]
  },
  {
   "cell_type": "code",
   "execution_count": 13,
   "metadata": {},
   "outputs": [
    {
     "data": {
      "text/plain": [
       "(1000, 1000)"
      ]
     },
     "execution_count": 13,
     "metadata": {},
     "output_type": "execute_result"
    }
   ],
   "source": [
    "plane.shape"
   ]
  },
  {
   "cell_type": "code",
   "execution_count": 14,
   "metadata": {},
   "outputs": [
    {
     "name": "stdout",
     "output_type": "stream",
     "text": [
      "CPU times: user 1.55 s, sys: 0 ns, total: 1.55 s\n",
      "Wall time: 1.55 s\n"
     ]
    }
   ],
   "source": [
    "%%time\n",
    "c = np.zeros_like(plane)\n",
    "for i in range(1000):\n",
    "    for j in range(1000):\n",
    "        c[i,j] = np.cos(plane[i,j])"
   ]
  },
  {
   "cell_type": "code",
   "execution_count": 15,
   "metadata": {},
   "outputs": [
    {
     "name": "stdout",
     "output_type": "stream",
     "text": [
      "CPU times: user 12.9 ms, sys: 4 ms, total: 16.9 ms\n",
      "Wall time: 19 ms\n"
     ]
    }
   ],
   "source": [
    "%%time\n",
    "c = np.cos(plane)"
   ]
  },
  {
   "cell_type": "code",
   "execution_count": 18,
   "metadata": {},
   "outputs": [
    {
     "data": {
      "text/plain": [
       "array([[0.00000000e+00, 1.97786813e-05, 7.91139429e-05, ...,\n",
       "        7.91139429e-05, 1.97786813e-05, 0.00000000e+00],\n",
       "       [0.00000000e+00, 1.97786813e-05, 7.91139429e-05, ...,\n",
       "        7.91139429e-05, 1.97786813e-05, 0.00000000e+00],\n",
       "       [0.00000000e+00, 1.97786813e-05, 7.91139429e-05, ...,\n",
       "        7.91139429e-05, 1.97786813e-05, 0.00000000e+00],\n",
       "       ...,\n",
       "       [0.00000000e+00, 1.97786813e-05, 7.91139429e-05, ...,\n",
       "        7.91139429e-05, 1.97786813e-05, 0.00000000e+00],\n",
       "       [0.00000000e+00, 1.97786813e-05, 7.91139429e-05, ...,\n",
       "        7.91139429e-05, 1.97786813e-05, 0.00000000e+00],\n",
       "       [0.00000000e+00, 1.97786813e-05, 7.91139429e-05, ...,\n",
       "        7.91139429e-05, 1.97786813e-05, 0.00000000e+00]])"
      ]
     },
     "execution_count": 18,
     "metadata": {},
     "output_type": "execute_result"
    }
   ],
   "source": [
    "c + 1"
   ]
  },
  {
   "cell_type": "markdown",
   "metadata": {},
   "source": [
    "Let's also do some simple numpy file i/o, and plotting:"
   ]
  },
  {
   "cell_type": "code",
   "execution_count": 19,
   "metadata": {},
   "outputs": [],
   "source": [
    "x = np.linspace(-1,1, 100)\n",
    "\n",
    "gauss = np.exp(-x**2/2)"
   ]
  },
  {
   "cell_type": "code",
   "execution_count": 20,
   "metadata": {},
   "outputs": [],
   "source": [
    "import matplotlib.pyplot as pl"
   ]
  },
  {
   "cell_type": "code",
   "execution_count": 21,
   "metadata": {},
   "outputs": [
    {
     "data": {
      "image/png": "[encoded data removed]",
      "text/plain": [
       "<Figure size 720x576 with 1 Axes>"
      ]
     },
     "metadata": {},
     "output_type": "display_data"
    }
   ],
   "source": [
    "pl.plot(x, gauss)\n",
    "pl.xlabel(r'$x$')\n",
    "pl.ylabel(r'$e^{-x^2/2}$')\n",
    "pl.show()"
   ]
  },
  {
   "cell_type": "markdown",
   "metadata": {},
   "source": [
    "Now, let's save this data!"
   ]
  },
  {
   "cell_type": "code",
   "execution_count": 26,
   "metadata": {},
   "outputs": [
    {
     "data": {
      "text/plain": [
       "array([[-1.        ,  0.60653066],\n",
       "       [-0.97979798,  0.61878213],\n",
       "       [-0.95959596,  0.63102348],\n",
       "       [-0.93939394,  0.64324443],\n",
       "       [-0.91919192,  0.65543451],\n",
       "       [-0.8989899 ,  0.66758309],\n",
       "       [-0.87878788,  0.6796794 ],\n",
       "       [-0.85858586,  0.69171252],\n",
       "       [-0.83838384,  0.70367144],\n",
       "       [-0.81818182,  0.71554503],\n",
       "       [-0.7979798 ,  0.72732208],\n",
       "       [-0.77777778,  0.7389913 ],\n",
       "       [-0.75757576,  0.75054136],\n",
       "       [-0.73737374,  0.76196092],\n",
       "       [-0.71717172,  0.77323858],\n",
       "       [-0.6969697 ,  0.78436298],\n",
       "       [-0.67676768,  0.79532277],\n",
       "       [-0.65656566,  0.80610665],\n",
       "       [-0.63636364,  0.81670336],\n",
       "       [-0.61616162,  0.82710174],\n",
       "       [-0.5959596 ,  0.83729073],\n",
       "       [-0.57575758,  0.84725938],\n",
       "       [-0.55555556,  0.85699689],\n",
       "       [-0.53535354,  0.86649261],\n",
       "       [-0.51515152,  0.87573605],\n",
       "       [-0.49494949,  0.88471696],\n",
       "       [-0.47474747,  0.89342527],\n",
       "       [-0.45454545,  0.90185116],\n",
       "       [-0.43434343,  0.90998505],\n",
       "       [-0.41414141,  0.91781764],\n",
       "       [-0.39393939,  0.92533992],\n",
       "       [-0.37373737,  0.93254319],\n",
       "       [-0.35353535,  0.93941905],\n",
       "       [-0.33333333,  0.94595947],\n",
       "       [-0.31313131,  0.95215675],\n",
       "       [-0.29292929,  0.95800356],\n",
       "       [-0.27272727,  0.96349297],\n",
       "       [-0.25252525,  0.96861845],\n",
       "       [-0.23232323,  0.97337385],\n",
       "       [-0.21212121,  0.97775348],\n",
       "       [-0.19191919,  0.98175206],\n",
       "       [-0.17171717,  0.98536476],\n",
       "       [-0.15151515,  0.98858721],\n",
       "       [-0.13131313,  0.99141549],\n",
       "       [-0.11111111,  0.99384617],\n",
       "       [-0.09090909,  0.99587629],\n",
       "       [-0.07070707,  0.99750338],\n",
       "       [-0.05050505,  0.99872543],\n",
       "       [-0.03030303,  0.99954097],\n",
       "       [-0.01010101,  0.99994899],\n",
       "       [ 0.01010101,  0.99994899],\n",
       "       [ 0.03030303,  0.99954097],\n",
       "       [ 0.05050505,  0.99872543],\n",
       "       [ 0.07070707,  0.99750338],\n",
       "       [ 0.09090909,  0.99587629],\n",
       "       [ 0.11111111,  0.99384617],\n",
       "       [ 0.13131313,  0.99141549],\n",
       "       [ 0.15151515,  0.98858721],\n",
       "       [ 0.17171717,  0.98536476],\n",
       "       [ 0.19191919,  0.98175206],\n",
       "       [ 0.21212121,  0.97775348],\n",
       "       [ 0.23232323,  0.97337385],\n",
       "       [ 0.25252525,  0.96861845],\n",
       "       [ 0.27272727,  0.96349297],\n",
       "       [ 0.29292929,  0.95800356],\n",
       "       [ 0.31313131,  0.95215675],\n",
       "       [ 0.33333333,  0.94595947],\n",
       "       [ 0.35353535,  0.93941905],\n",
       "       [ 0.37373737,  0.93254319],\n",
       "       [ 0.39393939,  0.92533992],\n",
       "       [ 0.41414141,  0.91781764],\n",
       "       [ 0.43434343,  0.90998505],\n",
       "       [ 0.45454545,  0.90185116],\n",
       "       [ 0.47474747,  0.89342527],\n",
       "       [ 0.49494949,  0.88471696],\n",
       "       [ 0.51515152,  0.87573605],\n",
       "       [ 0.53535354,  0.86649261],\n",
       "       [ 0.55555556,  0.85699689],\n",
       "       [ 0.57575758,  0.84725938],\n",
       "       [ 0.5959596 ,  0.83729073],\n",
       "       [ 0.61616162,  0.82710174],\n",
       "       [ 0.63636364,  0.81670336],\n",
       "       [ 0.65656566,  0.80610665],\n",
       "       [ 0.67676768,  0.79532277],\n",
       "       [ 0.6969697 ,  0.78436298],\n",
       "       [ 0.71717172,  0.77323858],\n",
       "       [ 0.73737374,  0.76196092],\n",
       "       [ 0.75757576,  0.75054136],\n",
       "       [ 0.77777778,  0.7389913 ],\n",
       "       [ 0.7979798 ,  0.72732208],\n",
       "       [ 0.81818182,  0.71554503],\n",
       "       [ 0.83838384,  0.70367144],\n",
       "       [ 0.85858586,  0.69171252],\n",
       "       [ 0.87878788,  0.6796794 ],\n",
       "       [ 0.8989899 ,  0.66758309],\n",
       "       [ 0.91919192,  0.65543451],\n",
       "       [ 0.93939394,  0.64324443],\n",
       "       [ 0.95959596,  0.63102348],\n",
       "       [ 0.97979798,  0.61878213],\n",
       "       [ 1.        ,  0.60653066]])"
      ]
     },
     "execution_count": 26,
     "metadata": {},
     "output_type": "execute_result"
    }
   ],
   "source": [
    " np.array([x,gauss]).T"
   ]
  },
  {
   "cell_type": "code",
   "execution_count": 27,
   "metadata": {},
   "outputs": [],
   "source": [
    "np.savetxt('data/gauss.txt', np.array([x,gauss]).T) #transpose makes the file formatting look right"
   ]
  },
  {
   "cell_type": "markdown",
   "metadata": {},
   "source": [
    "Two ways of loading it back in with `numpy`:"
   ]
  },
  {
   "cell_type": "code",
   "execution_count": 28,
   "metadata": {
    "scrolled": true
   },
   "outputs": [
    {
     "name": "stdout",
     "output_type": "stream",
     "text": [
      "[[-1.          0.60653066]\n",
      " [-0.97979798  0.61878213]\n",
      " [-0.95959596  0.63102348]\n",
      " [-0.93939394  0.64324443]\n",
      " [-0.91919192  0.65543451]\n",
      " [-0.8989899   0.66758309]\n",
      " [-0.87878788  0.6796794 ]\n",
      " [-0.85858586  0.69171252]\n",
      " [-0.83838384  0.70367144]\n",
      " [-0.81818182  0.71554503]\n",
      " [-0.7979798   0.72732208]\n",
      " [-0.77777778  0.7389913 ]\n",
      " [-0.75757576  0.75054136]\n",
      " [-0.73737374  0.76196092]\n",
      " [-0.71717172  0.77323858]\n",
      " [-0.6969697   0.78436298]\n",
      " [-0.67676768  0.79532277]\n",
      " [-0.65656566  0.80610665]\n",
      " [-0.63636364  0.81670336]\n",
      " [-0.61616162  0.82710174]\n",
      " [-0.5959596   0.83729073]\n",
      " [-0.57575758  0.84725938]\n",
      " [-0.55555556  0.85699689]\n",
      " [-0.53535354  0.86649261]\n",
      " [-0.51515152  0.87573605]\n",
      " [-0.49494949  0.88471696]\n",
      " [-0.47474747  0.89342527]\n",
      " [-0.45454545  0.90185116]\n",
      " [-0.43434343  0.90998505]\n",
      " [-0.41414141  0.91781764]\n",
      " [-0.39393939  0.92533992]\n",
      " [-0.37373737  0.93254319]\n",
      " [-0.35353535  0.93941905]\n",
      " [-0.33333333  0.94595947]\n",
      " [-0.31313131  0.95215675]\n",
      " [-0.29292929  0.95800356]\n",
      " [-0.27272727  0.96349297]\n",
      " [-0.25252525  0.96861845]\n",
      " [-0.23232323  0.97337385]\n",
      " [-0.21212121  0.97775348]\n",
      " [-0.19191919  0.98175206]\n",
      " [-0.17171717  0.98536476]\n",
      " [-0.15151515  0.98858721]\n",
      " [-0.13131313  0.99141549]\n",
      " [-0.11111111  0.99384617]\n",
      " [-0.09090909  0.99587629]\n",
      " [-0.07070707  0.99750338]\n",
      " [-0.05050505  0.99872543]\n",
      " [-0.03030303  0.99954097]\n",
      " [-0.01010101  0.99994899]\n",
      " [ 0.01010101  0.99994899]\n",
      " [ 0.03030303  0.99954097]\n",
      " [ 0.05050505  0.99872543]\n",
      " [ 0.07070707  0.99750338]\n",
      " [ 0.09090909  0.99587629]\n",
      " [ 0.11111111  0.99384617]\n",
      " [ 0.13131313  0.99141549]\n",
      " [ 0.15151515  0.98858721]\n",
      " [ 0.17171717  0.98536476]\n",
      " [ 0.19191919  0.98175206]\n",
      " [ 0.21212121  0.97775348]\n",
      " [ 0.23232323  0.97337385]\n",
      " [ 0.25252525  0.96861845]\n",
      " [ 0.27272727  0.96349297]\n",
      " [ 0.29292929  0.95800356]\n",
      " [ 0.31313131  0.95215675]\n",
      " [ 0.33333333  0.94595947]\n",
      " [ 0.35353535  0.93941905]\n",
      " [ 0.37373737  0.93254319]\n",
      " [ 0.39393939  0.92533992]\n",
      " [ 0.41414141  0.91781764]\n",
      " [ 0.43434343  0.90998505]\n",
      " [ 0.45454545  0.90185116]\n",
      " [ 0.47474747  0.89342527]\n",
      " [ 0.49494949  0.88471696]\n",
      " [ 0.51515152  0.87573605]\n",
      " [ 0.53535354  0.86649261]\n",
      " [ 0.55555556  0.85699689]\n",
      " [ 0.57575758  0.84725938]\n",
      " [ 0.5959596   0.83729073]\n",
      " [ 0.61616162  0.82710174]\n",
      " [ 0.63636364  0.81670336]\n",
      " [ 0.65656566  0.80610665]\n",
      " [ 0.67676768  0.79532277]\n",
      " [ 0.6969697   0.78436298]\n",
      " [ 0.71717172  0.77323858]\n",
      " [ 0.73737374  0.76196092]\n",
      " [ 0.75757576  0.75054136]\n",
      " [ 0.77777778  0.7389913 ]\n",
      " [ 0.7979798   0.72732208]\n",
      " [ 0.81818182  0.71554503]\n",
      " [ 0.83838384  0.70367144]\n",
      " [ 0.85858586  0.69171252]\n",
      " [ 0.87878788  0.6796794 ]\n",
      " [ 0.8989899   0.66758309]\n",
      " [ 0.91919192  0.65543451]\n",
      " [ 0.93939394  0.64324443]\n",
      " [ 0.95959596  0.63102348]\n",
      " [ 0.97979798  0.61878213]\n",
      " [ 1.          0.60653066]]\n"
     ]
    }
   ],
   "source": [
    "array = np.loadtxt('data/gauss.txt')\n",
    "print(array)"
   ]
  },
  {
   "cell_type": "code",
   "execution_count": 29,
   "metadata": {},
   "outputs": [
    {
     "name": "stdout",
     "output_type": "stream",
     "text": [
      "[-1.         -0.97979798 -0.95959596 -0.93939394 -0.91919192 -0.8989899\n",
      " -0.87878788 -0.85858586 -0.83838384 -0.81818182 -0.7979798  -0.77777778\n",
      " -0.75757576 -0.73737374 -0.71717172 -0.6969697  -0.67676768 -0.65656566\n",
      " -0.63636364 -0.61616162 -0.5959596  -0.57575758 -0.55555556 -0.53535354\n",
      " -0.51515152 -0.49494949 -0.47474747 -0.45454545 -0.43434343 -0.41414141\n",
      " -0.39393939 -0.37373737 -0.35353535 -0.33333333 -0.31313131 -0.29292929\n",
      " -0.27272727 -0.25252525 -0.23232323 -0.21212121 -0.19191919 -0.17171717\n",
      " -0.15151515 -0.13131313 -0.11111111 -0.09090909 -0.07070707 -0.05050505\n",
      " -0.03030303 -0.01010101  0.01010101  0.03030303  0.05050505  0.07070707\n",
      "  0.09090909  0.11111111  0.13131313  0.15151515  0.17171717  0.19191919\n",
      "  0.21212121  0.23232323  0.25252525  0.27272727  0.29292929  0.31313131\n",
      "  0.33333333  0.35353535  0.37373737  0.39393939  0.41414141  0.43434343\n",
      "  0.45454545  0.47474747  0.49494949  0.51515152  0.53535354  0.55555556\n",
      "  0.57575758  0.5959596   0.61616162  0.63636364  0.65656566  0.67676768\n",
      "  0.6969697   0.71717172  0.73737374  0.75757576  0.77777778  0.7979798\n",
      "  0.81818182  0.83838384  0.85858586  0.87878788  0.8989899   0.91919192\n",
      "  0.93939394  0.95959596  0.97979798  1.        ] [0.60653066 0.61878213 0.63102348 0.64324443 0.65543451 0.66758309\n",
      " 0.6796794  0.69171252 0.70367144 0.71554503 0.72732208 0.7389913\n",
      " 0.75054136 0.76196092 0.77323858 0.78436298 0.79532277 0.80610665\n",
      " 0.81670336 0.82710174 0.83729073 0.84725938 0.85699689 0.86649261\n",
      " 0.87573605 0.88471696 0.89342527 0.90185116 0.90998505 0.91781764\n",
      " 0.92533992 0.93254319 0.93941905 0.94595947 0.95215675 0.95800356\n",
      " 0.96349297 0.96861845 0.97337385 0.97775348 0.98175206 0.98536476\n",
      " 0.98858721 0.99141549 0.99384617 0.99587629 0.99750338 0.99872543\n",
      " 0.99954097 0.99994899 0.99994899 0.99954097 0.99872543 0.99750338\n",
      " 0.99587629 0.99384617 0.99141549 0.98858721 0.98536476 0.98175206\n",
      " 0.97775348 0.97337385 0.96861845 0.96349297 0.95800356 0.95215675\n",
      " 0.94595947 0.93941905 0.93254319 0.92533992 0.91781764 0.90998505\n",
      " 0.90185116 0.89342527 0.88471696 0.87573605 0.86649261 0.85699689\n",
      " 0.84725938 0.83729073 0.82710174 0.81670336 0.80610665 0.79532277\n",
      " 0.78436298 0.77323858 0.76196092 0.75054136 0.7389913  0.72732208\n",
      " 0.71554503 0.70367144 0.69171252 0.6796794  0.66758309 0.65543451\n",
      " 0.64324443 0.63102348 0.61878213 0.60653066]\n"
     ]
    }
   ],
   "source": [
    "x, gauss = np.loadtxt('data/gauss.txt', unpack = True)\n",
    "print(x, gauss)"
   ]
  },
  {
   "cell_type": "code",
   "execution_count": null,
   "metadata": {},
   "outputs": [],
   "source": []
  }
 ],
 "metadata": {
  "kernelspec": {
   "display_name": "Python 3",
   "language": "python",
   "name": "python3"
  },
  "language_info": {
   "codemirror_mode": {
    "name": "ipython",
    "version": 3
   },
   "file_extension": ".py",
   "mimetype": "text/x-python",
   "name": "python",
   "nbconvert_exporter": "python",
   "pygments_lexer": "ipython3",
   "version": "3.6.9"
  }
 },
 "nbformat": 4,
 "nbformat_minor": 2
}
