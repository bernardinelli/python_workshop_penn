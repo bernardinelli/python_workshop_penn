{
 "cells": [
  {
   "cell_type": "markdown",
   "metadata": {},
   "source": [
    "### Challenge 1\n",
    "\n",
    "Consider the set $\\mathbb{Q}(\\sqrt{2}) = \\{ a + b \\sqrt{2} | a,b \\in\\mathbb{Q}\\}$. That is, a number of the form $q = a + \\sqrt{2} b$, with $a$ and $b$ being rational numbers. Consider another of such numbers, $ p = c = \\sqrt{2} d$. \n",
    "$$q + p = (a+c) + \\sqrt{2}(b + d) $$\n",
    "$$q - p = (a-c) + \\sqrt{2}(b-d) $$\n",
    "$$q \\cdot p =  ac + 2bd + \\sqrt{2}(ad + bc) $$\n",
    "$$ q / p = \\frac{ac - 2bd}{c^2 - 2d^2} + \\sqrt{2} \\frac{bc - ad}{c^2 - 2d^2} $$\n",
    "Implement a class that can hold these numbers, but with a twist.\n",
    "- It should *not* use the value of $\\sqrt{2}$ anywhere. Your numbers should be visualized as `a + b sqrt(2)`. You'll need to figure out sum, subtraction, product and division rules. It should also compute absolute values of these numbers, and check if two numbers are equal.\n",
    "- Instead of using $a$ and $b$ as floats, write integers of the form\n",
    "$$q = \\frac{a}{b} + \\sqrt{2} \\frac{c}{d}, a,b,c,d \\in \\mathbb{Z}. $$\n",
    "This means that you'll be using fractions (note that the operations we defined above still hold for fractions!). Now, remember that, $\\forall a,b,n \\in \\mathbb{Z}$, \n",
    "$$\\frac{na}{nb} = \\frac{a}{b}.$$\n",
    "Your implementation should take care of that *without using floats*! (tip and bonus points: write a `Fraction` class, or use the one that comes with Python)."
   ]
  },
  {
   "cell_type": "markdown",
   "metadata": {},
   "source": [
    "### Challenge 2\n",
    "Make a pretty visualization of [this dataset](https://vaex.s3.us-east-2.amazonaws.com/taxi/yellow_taxi_2015_f32s.hdf5), that corresponds to information of Uber/Taxi rides in NYC in 2015. You'll know you have the right thing once you've done it. Compute the center of mass of the dataset (i.e. the mean position) for both pickups and drop-offs. What physical location does it represent?\n",
    "\n",
    "(Hint: you're not the first to access this dataset. This dataset is a fairly [standard example in big data](https://toddwschneider.com/posts/analyzing-1-1-billion-nyc-taxi-and-uber-trips-with-a-vengeance/), so you might be able to find help, say, in documentations of big data packages)"
   ]
  },
  {
   "cell_type": "markdown",
   "metadata": {},
   "source": [
    "### Challenge 3\n",
    "\n",
    "Ok, let's actually do some physics. Consider Newton's laws of gravitation:\n",
    "\n",
    "$$ \\ddot{\\mathbf{x}}_i = - \\sum_j \\frac{G m_j}{||\\mathbf{x}_i - \\mathbf{x}_j||^3} (\\mathbf{x}_j - \\mathbf{x}_i), $$\n",
    "with initial conditions $\\mathbf{x}_{0,i}, \\mathbf{v}_{0,i} $. \n",
    "\n",
    "Write a *fast* code that can solve this for any number of bodies interacting with each other using [Euler's integration](https://en.wikipedia.org/wiki/Euler_method). Consider an equation of the form $\\dot{x} = A(x)$, that you wish to integrate. Consider time steps $\\Delta t$, going from 1 to $N$. For time step $k$, the numerical solution is\n",
    "$$x_{k+1} = x_k + \\Delta t A(x_k). $$\n",
    "\n",
    "Now, for a second order equation $\\ddot{x} = A(x)$, you can consider $X = (x,v)$, and each time step you update\n",
    "$$x_{k+1} = x_k + \\Delta t v_k, $$\n",
    "$$v_{k+1} = v_k + \\Delta t A(x_k) $$\n",
    "\n",
    "Consider the following initial conditions, where the first 3 columns represent the position vector (in AU), the next three the velocity (in AU/day), and the final column the mass (in solar masses):\n",
    "```\n",
    "0.0 0.0 0.0 0.0 0.0 0.0 1.0\n",
    "29.35422135303840 -5.781461476339563 -0.5574389055233830 5.860926919118653E-04 3.098439203928993E-03 -7.770987628147454E-05 0.00005149\n",
    "13.52695443585209 -3125914396499637 -0.5678687151446956E 2.963466773830331E-03 5.852965717058529E-04 -9.184181183891606E-04 6E-09\n",
    "```\n",
    "\n",
    "Hint 1) Think about the units. There exists an unit system where $GM = 4\\pi^2$, and it's not far from what I gave you. In particular, you want to use distances in AUs and time in years! \n",
    "\n",
    "Hint 2) Do you really need the third body's mass? It's $10^{-4}$ times less massive than body number 2. \n",
    "\n",
    "Bonus points: what's the period, in years, of the orbits of bodies 2 and 3?\n",
    "\n",
    "Bonus points: this is a real physical system. Find the corresponding real world equivalent! Of course, body 1 is the Sun and body 2 is a planet. Body 3 is famous!\n",
    "\n",
    "(Extra hard) Bonus points: identify the resonance between bodies 2 and 3."
   ]
  },
  {
   "cell_type": "code",
   "execution_count": null,
   "metadata": {},
   "outputs": [],
   "source": []
  }
 ],
 "metadata": {
  "kernelspec": {
   "display_name": "Python 3",
   "language": "python",
   "name": "python3"
  },
  "language_info": {
   "codemirror_mode": {
    "name": "ipython",
    "version": 3
   },
   "file_extension": ".py",
   "mimetype": "text/x-python",
   "name": "python",
   "nbconvert_exporter": "python",
   "pygments_lexer": "ipython3",
   "version": "3.6.9"
  }
 },
 "nbformat": 4,
 "nbformat_minor": 2
}
