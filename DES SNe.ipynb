{
 "cells": [
  {
   "cell_type": "markdown",
   "metadata": {},
   "source": [
    "In this notebook, we'll do a simple analysis of the DES supernovae Ia data. \n",
    "\n",
    "1. Read in the data (directory `data/`)\n",
    "2. Plot the data with errors (distance: `MU`, `MUERR` and redshift: `zHD`, `zHDERR`)\n",
    "2b. Color code the data by the column `IDSURVEY`. When `IDSURVEY` is 10 make the data points blue, when it is not 10 make the data points red.\n",
    "3. Plot the two pre-computed models for the expansion of the universe (`accelerating_universe.txt`, `decelerating_universe.txt`)\n",
    "4. Plot a subplot (attached with the main plot that shares the same x-axis) that shows the residuals between the dataset and each model. \n",
    "5. Clearly label the plot with a legend\n",
    "6. Import universe_model.py\n",
    "7. Plot the default model\n",
    "8. Compute a chi squared between the data model. \n",
    "\n",
    "---- Advanced ---- \n",
    "9. Make the chi squared computation into a function called csq() that takes in data, and model parameters p (not just the default model).\n",
    "10. Run an mcmc (using emcee: https://emcee.readthedocs.io/en/stable/tutorials/line/) where  your log_probability is.\n",
    "def log_probability(p, x, y, yerr):\n",
    "    return np.exp(-1*csq()/2.)\n",
    "11. Plot the results for your parameter fits in a corner plot (see emcee for example)"
   ]
  },
  {
   "cell_type": "code",
   "execution_count": null,
   "metadata": {},
   "outputs": [],
   "source": []
  }
 ],
 "metadata": {
  "kernelspec": {
   "display_name": "Python 3",
   "language": "python",
   "name": "python3"
  },
  "language_info": {
   "codemirror_mode": {
    "name": "ipython",
    "version": 3
   },
   "file_extension": ".py",
   "mimetype": "text/x-python",
   "name": "python",
   "nbconvert_exporter": "python",
   "pygments_lexer": "ipython3",
   "version": "3.6.9"
  }
 },
 "nbformat": 4,
 "nbformat_minor": 2
}
